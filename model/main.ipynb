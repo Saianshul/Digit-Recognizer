{
 "cells": [
  {
   "cell_type": "code",
   "execution_count": 37,
   "metadata": {},
   "outputs": [],
   "source": [
    "import numpy as np\n",
    "from keras.datasets import mnist\n",
    "import cv2\n",
    "import math\n",
    "from scipy import ndimage"
   ]
  },
  {
   "cell_type": "code",
   "execution_count": 38,
   "metadata": {},
   "outputs": [],
   "source": [
    "class NaiveBayes:\n",
    "    def __init__(self):\n",
    "        self.means = []\n",
    "        self.variances = []\n",
    "        self.priors = []\n",
    "\n",
    "    def fit(self, x, y):\n",
    "        self.classes = np.unique(y)\n",
    "\n",
    "        for i in self.classes:\n",
    "            self.priors.append(np.mean(y == i))\n",
    "            x_n = x[y == i]\n",
    "            self.means.append(np.mean(x_n, axis = 0))\n",
    "            self.variances.append(np.var(x_n, axis = 0) + 0.01575)\n",
    "\n",
    "    def predict(self, x):\n",
    "        self.posteriors = []\n",
    "\n",
    "        for i in self.classes:\n",
    "            log_prior = np.log(self.priors[i])\n",
    "            likelihood = np.sum(np.log(self.gaussian(x, self.means[i], self.variances[i])), axis = 1)\n",
    "            posterior = likelihood + log_prior\n",
    "            self.posteriors.append(posterior)\n",
    "            \n",
    "        self.posteriors = np.array(self.posteriors)\n",
    "        if self.posteriors.ndim == 2:\n",
    "            return np.argmax(self.posteriors, axis=0)\n",
    "        else:\n",
    "            return np.argmax(self.posteriors)\n",
    "\n",
    "    def gaussian(self, x, mean, variance):\n",
    "        numerator = np.exp(-((x - mean) ** 2) / (2 * variance))\n",
    "        denominator = np.sqrt(2 * np.pi * variance)\n",
    "        return numerator / denominator"
   ]
  },
  {
   "cell_type": "code",
   "execution_count": 39,
   "metadata": {},
   "outputs": [],
   "source": [
    "(x_train, y_train), (x_test, y_test) = mnist.load_data()\n",
    "x_train = x_train.reshape(x_train.shape[0], -1) / 255.0\n",
    "x_test = x_test.reshape(x_test.shape[0], -1) / 255.0"
   ]
  },
  {
   "cell_type": "code",
   "execution_count": 40,
   "metadata": {},
   "outputs": [
    {
     "name": "stdout",
     "output_type": "stream",
     "text": [
      "Accuracy:  0.8156\n"
     ]
    }
   ],
   "source": [
    "model = NaiveBayes()\n",
    "model.fit(x_train, y_train)\n",
    "y_predicted = model.predict(x_test)\n",
    "accuracy = np.mean(y_predicted == y_test)\n",
    "print(\"Accuracy: \", accuracy)"
   ]
  },
  {
   "cell_type": "code",
   "execution_count": 41,
   "metadata": {},
   "outputs": [],
   "source": [
    "class ProcessImage:\n",
    "    def __init__(self, image_path):\n",
    "        self.path = image_path\n",
    "\n",
    "    def preprocess(self):\n",
    "        # Read the image\n",
    "        img = cv2.imread(self.path, cv2.IMREAD_GRAYSCALE)\n",
    "\n",
    "        # Scale to 20x20, invert (like training)\n",
    "        img = cv2.resize(255 - img, (20, 20), interpolation = cv2.INTER_AREA)\n",
    "\n",
    "        # img = cv2.GaussianBlur(img,(5,5),0)\n",
    "\n",
    "        # Make gray into black (uniform background like training)\n",
    "        _, img = cv2.threshold(img, 100, 255, cv2.THRESH_BINARY + cv2.THRESH_OTSU)\n",
    "\n",
    "        # Remove completely black (empty) rows/cols on all sides\n",
    "        img = self.trim(img)\n",
    "\n",
    "        # Center digit\n",
    "        shiftx, shifty = self.getBestShift(img)\n",
    "        shifted = self.shift(img, shiftx, shifty)\n",
    "        img = shifted\n",
    "\n",
    "        # DEBUG\n",
    "        # cv2.imwrite(\"output.png\", img)\n",
    "\n",
    "        # Normalize the image\n",
    "        img = img / 255.0\n",
    "\n",
    "        # Reshape to 1D match the input of the model\n",
    "        img = img.reshape(-1)\n",
    "\n",
    "        return img\n",
    "\n",
    "    def trim(self, img):\n",
    "        while np.sum(img[0]) == 0:\n",
    "            img = img[1:]\n",
    "\n",
    "        while np.sum(img[:, 0]) == 0:\n",
    "            img = np.delete(img, 0, 1)\n",
    "\n",
    "        while np.sum(img[-1]) == 0:\n",
    "            img = img[:-1]\n",
    "\n",
    "        while np.sum(img[:, -1]) == 0:\n",
    "            img = np.delete(img, -1, 1)\n",
    "\n",
    "        rows, cols = img.shape\n",
    "\n",
    "        if rows > cols:\n",
    "            factor = 20.0 / rows\n",
    "            rows = 20\n",
    "            cols = int(round(cols * factor))\n",
    "            img = cv2.resize(img, (cols, rows))\n",
    "        else:\n",
    "            factor = 20.0 / cols\n",
    "            cols = 20\n",
    "            rows = int(round(rows * factor))\n",
    "            img = cv2.resize(img, (cols, rows))\n",
    "\n",
    "        colsPadding = (int(math.ceil((28 - cols) / 2.0)), int(math.floor((28 - cols) / 2.0)))\n",
    "        rowsPadding = (int(math.ceil((28 - rows)/ 2.0)), int(math.floor((28 - rows) / 2.0)))\n",
    "        img = np.pad(img, (rowsPadding, colsPadding), 'constant')\n",
    "\n",
    "        return img\n",
    "\n",
    "    def getBestShift(self, img):\n",
    "        cy, cx = ndimage.center_of_mass(img)\n",
    "        rows, cols = img.shape\n",
    "        shiftx = np.round(cols / 2.0 - cx).astype(int)\n",
    "        shifty = np.round(rows / 2.0 - cy).astype(int)\n",
    "\n",
    "        return shiftx, shifty\n",
    "\n",
    "    def shift(self, img, sx, sy):\n",
    "        rows,cols = img.shape\n",
    "        M = np.float32([[1, 0, sx], [0, 1, sy]])\n",
    "        shifted = cv2.warpAffine(img, M, (cols, rows))\n",
    "\n",
    "        return shifted"
   ]
  },
  {
   "cell_type": "code",
   "execution_count": 42,
   "metadata": {},
   "outputs": [
    {
     "name": "stdout",
     "output_type": "stream",
     "text": [
      "Predicted Digit:  [7 7 0 5 3 2 1 0 3 7 4 2 9 1 3 1 9 1 7]\n",
      "Actual Digits:  [7, 7, 0, 5, 3, 2, 1, 0, 8, 7, 4, 2, 9, 8, 5, 1, 1, 1, 7]\n",
      "Accuracy:  0.7894736842105263\n"
     ]
    }
   ],
   "source": [
    "def digits():\n",
    "    digits_imgs = []\n",
    "    suffixes = [\"1\", \"10\", \"11\", \"12\", \"13\", \"14\", \"15\", \"16\", \"17\", \"18\", \"19\", \"2\", \"3\", \"4\", \"5\", \"6\", \"7\", \"8\", \"9\"]\n",
    "    \n",
    "    for num in suffixes:\n",
    "        img_processor = ProcessImage('digits/digit' + (num) + '.png')\n",
    "        img = img_processor.preprocess()\n",
    "        digits_imgs.append(img)\n",
    "\n",
    "    predicted_digits = model.predict(digits_imgs)\n",
    "    print(\"Predicted Digit: \", predicted_digits)\n",
    "\n",
    "    actual_digits = [7, 7, 0, 5, 3, 2, 1, 0, 8, 7, 4, 2, 9, 8, 5, 1, 1, 1, 7]\n",
    "    print(\"Actual Digits: \", actual_digits)\n",
    "\n",
    "    accuracy = np.mean(predicted_digits == actual_digits)\n",
    "    print(\"Accuracy: \", accuracy)\n",
    "\n",
    "digits()"
   ]
  },
  {
   "cell_type": "code",
   "execution_count": 43,
   "metadata": {},
   "outputs": [
    {
     "name": "stdout",
     "output_type": "stream",
     "text": [
      "Predicted Digit:  [1 6 3 9 9 6 7 8 9 1 2 4 3 9 2]\n",
      "Actual Digits:  [1, 2, 3, 4, 5, 6, 7, 8, 9, 1, 2, 4, 8, 9, 1]\n",
      "Accuracy:  0.6666666666666666\n"
     ]
    }
   ],
   "source": [
    "def r_digits():\n",
    "    digits_imgs = []\n",
    "    suffixes = [\"1\", \"2\", \"3\", \"4\", \"5\", \"6\", \"7\", \"8\", \"9\", \"11\", \"22\", \"44\", \"88\", \"99\", \"111\"]\n",
    "    \n",
    "    for num in suffixes:\n",
    "        img_processor = ProcessImage('r_digits/r_image_' + (num) + '.png')\n",
    "        img = img_processor.preprocess()\n",
    "        digits_imgs.append(img)\n",
    "\n",
    "    predicted_digits = model.predict(digits_imgs)\n",
    "    print(\"Predicted Digit: \", predicted_digits)\n",
    "\n",
    "    actual_digits = [1, 2, 3, 4, 5, 6, 7, 8, 9, 1, 2, 4, 8, 9, 1]\n",
    "    print(\"Actual Digits: \", actual_digits)\n",
    "\n",
    "    accuracy = np.mean(predicted_digits == actual_digits)\n",
    "    print(\"Accuracy: \", accuracy)\n",
    "\n",
    "r_digits()"
   ]
  }
 ],
 "metadata": {
  "kernelspec": {
   "display_name": "Python 3",
   "language": "python",
   "name": "python3"
  },
  "language_info": {
   "codemirror_mode": {
    "name": "ipython",
    "version": 3
   },
   "file_extension": ".py",
   "mimetype": "text/x-python",
   "name": "python",
   "nbconvert_exporter": "python",
   "pygments_lexer": "ipython3",
   "version": "3.11.6"
  }
 },
 "nbformat": 4,
 "nbformat_minor": 2
}
