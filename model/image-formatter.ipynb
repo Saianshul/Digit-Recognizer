{
 "cells": [
  {
   "cell_type": "code",
   "execution_count": null,
   "metadata": {},
   "outputs": [],
   "source": [
    "# Convert non-black pixels to white\n",
    "# Set threshold just above black (e.g., 1)\n",
    "_, thresholded_image = cv2.threshold(resized_image, 1, 255, cv2.THRESH_BINARY)\n",
    "\n",
    "# Preview reformatted image\n",
    "pyplot.imshow(thresholded_image, cmap='gray')"
   ]
  }
 ],
 "metadata": {
  "kernelspec": {
   "display_name": "Python 3",
   "language": "python",
   "name": "python3"
  },
  "language_info": {
   "codemirror_mode": {
    "name": "ipython",
    "version": 3
   },
   "file_extension": ".py",
   "mimetype": "text/x-python",
   "name": "python",
   "nbconvert_exporter": "python",
   "pygments_lexer": "ipython3",
   "version": "3.11.7"
  }
 },
 "nbformat": 4,
 "nbformat_minor": 2
}
