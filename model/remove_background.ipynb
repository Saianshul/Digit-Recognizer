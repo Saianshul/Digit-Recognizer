{
 "cells": [
  {
   "cell_type": "code",
   "execution_count": null,
   "metadata": {},
   "outputs": [],
   "source": [
    "# TODO: Upload your file and define the filename input_file\n",
    "# Optional: Also upload or define the background file/url\n",
    "input_file = '/content/pat400x400.jpg'\n",
    "background_url = 'https://images.unsplash.com/photo-1475139441338-693e7dbe20b6?auto=format&fit=crop&w=640&q=427'\n",
    "\n",
    "background_file = '/content/background.jpg'\n",
    "foreground_file = '/content/foreground.png'\n",
    "output_file = '/content/final.jpg'"
   ]
  },
  {
   "cell_type": "code",
   "execution_count": null,
   "metadata": {},
   "outputs": [],
   "source": [
    "from urllib.request import urlretrieve\n",
    "from PIL import Image\n",
    "from matplotlib import pyplot as plt\n",
    "\n",
    "# save the background \n",
    "urlretrieve(background_url, background_file)\n",
    "\n",
    "plt.imshow(Image.open(background_file))"
   ]
  }
 ],
 "metadata": {
  "language_info": {
   "name": "python"
  }
 },
 "nbformat": 4,
 "nbformat_minor": 2
}
