{
 "cells": [
  {
   "cell_type": "code",
   "execution_count": 9,
   "metadata": {},
   "outputs": [
    {
     "ename": "ModuleNotFoundError",
     "evalue": "No module named 'util'",
     "output_type": "error",
     "traceback": [
      "\u001b[0;31m---------------------------------------------------------------------------\u001b[0m",
      "\u001b[0;31mModuleNotFoundError\u001b[0m                       Traceback (most recent call last)",
      "Cell \u001b[0;32mIn[9], line 12\u001b[0m\n\u001b[1;32m      7\u001b[0m \u001b[38;5;66;03m# Note: you may need to update your version of future\u001b[39;00m\n\u001b[1;32m      8\u001b[0m \u001b[38;5;66;03m# sudo pip install -U future\u001b[39;00m\n\u001b[1;32m     11\u001b[0m \u001b[38;5;28;01mimport\u001b[39;00m \u001b[38;5;21;01mnumpy\u001b[39;00m \u001b[38;5;28;01mas\u001b[39;00m \u001b[38;5;21;01mnp\u001b[39;00m\n\u001b[0;32m---> 12\u001b[0m \u001b[38;5;28;01mfrom\u001b[39;00m \u001b[38;5;21;01mutil\u001b[39;00m \u001b[38;5;28;01mimport\u001b[39;00m get_data\n\u001b[1;32m     13\u001b[0m \u001b[38;5;28;01mfrom\u001b[39;00m \u001b[38;5;21;01mdatetime\u001b[39;00m \u001b[38;5;28;01mimport\u001b[39;00m datetime\n\u001b[1;32m     14\u001b[0m \u001b[38;5;28;01mfrom\u001b[39;00m \u001b[38;5;21;01mscipy\u001b[39;00m\u001b[38;5;21;01m.\u001b[39;00m\u001b[38;5;21;01mstats\u001b[39;00m \u001b[38;5;28;01mimport\u001b[39;00m norm\n",
      "\u001b[0;31mModuleNotFoundError\u001b[0m: No module named 'util'"
     ]
    }
   ],
   "source": [
    "# https://deeplearningcourses.com/c/data-science-supervised-machine-learning-in-python\n",
    "# https://www.udemy.com/data-science-supervised-machine-learning-in-python\n",
    "# This is an example of a Naive Bayes classifier on MNIST data.\n",
    "from __future__ import print_function, division\n",
    "from future.utils import iteritems\n",
    "from builtins import range, input\n",
    "# Note: you may need to update your version of future\n",
    "# sudo pip install -U future\n",
    "\n",
    "\n",
    "import numpy as np\n",
    "from util import get_data\n",
    "from datetime import datetime\n",
    "from scipy.stats import norm\n",
    "from scipy.stats import multivariate_normal as mvn\n",
    "\n",
    "class NaiveBayes(object):\n",
    "    def fit(self, X, Y, smoothing=1e-2):\n",
    "        self.gaussians = dict()\n",
    "        self.priors = dict()\n",
    "        labels = set(Y)\n",
    "        for c in labels:\n",
    "            current_x = X[Y == c]\n",
    "            self.gaussians[c] = {\n",
    "                'mean': current_x.mean(axis=0),\n",
    "                'var': current_x.var(axis=0) + smoothing,\n",
    "            }\n",
    "            self.priors[c] = float(len(Y[Y == c])) / len(Y)\n",
    "\n",
    "    def score(self, X, Y):\n",
    "        P = self.predict(X)\n",
    "        return np.mean(P == Y)\n",
    "\n",
    "    def predict(self, X):\n",
    "        N, D = X.shape\n",
    "        K = len(self.gaussians)\n",
    "        P = np.zeros((N, K))\n",
    "        for c, g in iteritems(self.gaussians):\n",
    "            mean, var = g['mean'], g['var']\n",
    "            P[:,c] = mvn.logpdf(X, mean=mean, cov=var) + np.log(self.priors[c])\n",
    "        return np.argmax(P, axis=1)\n",
    "\n",
    "\n",
    "if __name__ == '__main__':\n",
    "    X, Y = get_data(10000)\n",
    "    Ntrain = len(Y) // 2\n",
    "    Xtrain, Ytrain = X[:Ntrain], Y[:Ntrain]\n",
    "    Xtest, Ytest = X[Ntrain:], Y[Ntrain:]\n",
    "\n",
    "    model = NaiveBayes()\n",
    "    t0 = datetime.now()\n",
    "    model.fit(Xtrain, Ytrain)\n",
    "    print(\"Training time:\", (datetime.now() - t0))\n",
    "\n",
    "    t0 = datetime.now()\n",
    "    print(\"Train accuracy:\", model.score(Xtrain, Ytrain))\n",
    "    print(\"Time to compute train accuracy:\", (datetime.now() - t0), \"Train size:\", len(Ytrain))\n",
    "\n",
    "    t0 = datetime.now()\n",
    "    print(\"Test accuracy:\", model.score(Xtest, Ytest))\n",
    "    print(\"Time to compute test accuracy:\", (datetime.now() - t0), \"Test size:\", len(Ytest))"
   ]
  }
 ],
 "metadata": {
  "kernelspec": {
   "display_name": "Python 3",
   "language": "python",
   "name": "python3"
  },
  "language_info": {
   "codemirror_mode": {
    "name": "ipython",
    "version": 3
   },
   "file_extension": ".py",
   "mimetype": "text/x-python",
   "name": "python",
   "nbconvert_exporter": "python",
   "pygments_lexer": "ipython3",
   "version": "3.11.7"
  }
 },
 "nbformat": 4,
 "nbformat_minor": 2
}
