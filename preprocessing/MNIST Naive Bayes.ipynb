{
  "cells": [
    {
      "cell_type": "code",
      "execution_count": 1,
      "metadata": {
        "id": "dcjJokAKWMqL"
      },
      "outputs": [],
      "source": [
        "import numpy as np\n",
        "import tensorflow as tf"
      ]
    },
    {
      "cell_type": "markdown",
      "metadata": {
        "id": "R3LSrf1vW7-i"
      },
      "source": [
        "# Load and Prepare the MNIST Dataset"
      ]
    },
    {
      "cell_type": "code",
      "execution_count": 2,
      "metadata": {
        "id": "yZxCVelZWTCg"
      },
      "outputs": [],
      "source": [
        "# Load the MNIST dataset and split it into training and test sets\n",
        "(x_train, y_train), (x_test, y_test) = tf.keras.datasets.mnist.load_data()\n",
        "\n",
        "# Convert 0/255 to 0/1\n",
        "x_train_int = [np.round(1.0 * i / 256) for i in x_train]\n",
        "x_test_int = [np.round(1.0 * i / 256) for i in x_test]"
      ]
    },
    {
      "cell_type": "markdown",
      "metadata": {
        "id": "xY68SYd7XY9-"
      },
      "source": [
        "# Naive Bayes Classifier"
      ]
    },
    {
      "cell_type": "markdown",
      "metadata": {
        "id": "m2ByqdpHYi21"
      },
      "source": [
        "## Calcualte $p(x_i=0|y)$ and $p(x_i=1|y)$"
      ]
    },
    {
      "cell_type": "markdown",
      "metadata": {
        "id": "brneBKcXalv4"
      },
      "source": [
        "### Count the number of pixels equal to 0 and 1 for each training sample"
      ]
    },
    {
      "cell_type": "code",
      "execution_count": 3,
      "metadata": {
        "id": "1ODoPl3OXUxh"
      },
      "outputs": [],
      "source": [
        "x_train_flat = np.reshape(x_train_int, [60000, 784])\n",
        "zeros_cnt = np.zeros([10, 784])\n",
        "ones_cnt = np.zeros([10, 784])\n",
        "total_each_class = np.zeros([10, 1])\n",
        "\n",
        "# Loop over the 10 classes\n",
        "for i in range(10):\n",
        "  # Loop over all the training examples\n",
        "  for j in range(len(x_train_flat)):\n",
        "    # Count the number of occurances of each class\n",
        "    if y_train[j] == i:\n",
        "      total_each_class[i] += 1\n",
        "      # Loop over every pixel of the training sample\n",
        "      for k in range(784):\n",
        "        # Count the number of pixels equal to 1 in the training sample\n",
        "        if x_train_flat[j, k] == 1:\n",
        "          ones_cnt[i, k] += 1\n",
        "# Get the number of pixels equal to 0 in all training samples\n",
        "zeros_cnt = total_each_class - ones_cnt"
      ]
    },
    {
      "cell_type": "markdown",
      "metadata": {
        "id": "YBcG41t4a2yI"
      },
      "source": [
        "### Estimate the log probabilities"
      ]
    },
    {
      "cell_type": "code",
      "execution_count": 4,
      "metadata": {
        "id": "aevchZu3ag_4"
      },
      "outputs": [
        {
          "name": "stderr",
          "output_type": "stream",
          "text": [
            "/var/folders/0g/rpfzxg1x1d7dndvhhsbxmtzw0000gn/T/ipykernel_1000/1739990632.py:13: DeprecationWarning: Conversion of an array with ndim > 0 to a scalar is deprecated, and will error in future. Ensure you extract a single element from your array before performing this operation. (Deprecated NumPy 1.25.)\n",
            "  p_x_0[i, j] = zeros_cnt[i, j] / total_each_class[i]\n"
          ]
        }
      ],
      "source": [
        "p_x_0 = np.zeros([10, 784])\n",
        "logp_x_0 = np.zeros([10, 784])\n",
        "\n",
        "# Loop over the 10 classes\n",
        "for i in range(10):\n",
        "  # Loop over all the pixels\n",
        "  for j in range(784):\n",
        "    # Check if there are no pixels equal to 0 \n",
        "    if zeros_cnt[i, j] == 0:\n",
        "      # Laplace smoothing\n",
        "      p_x_0[i, j] = (zeros_cnt[i, j] + 0.7) / (total_each_class[i] + 0.7)\n",
        "    else:\n",
        "      p_x_0[i, j] = zeros_cnt[i, j] / total_each_class[i]\n",
        "    # Calculate the log probabilites to avoid multiplying by a small number\n",
        "    logp_x_0[i, j] = np.log10(p_x_0[i, j])"
      ]
    },
    {
      "cell_type": "code",
      "execution_count": 5,
      "metadata": {
        "id": "oGk6L27bd55v"
      },
      "outputs": [
        {
          "name": "stderr",
          "output_type": "stream",
          "text": [
            "/var/folders/0g/rpfzxg1x1d7dndvhhsbxmtzw0000gn/T/ipykernel_1000/1578188293.py:11: DeprecationWarning: Conversion of an array with ndim > 0 to a scalar is deprecated, and will error in future. Ensure you extract a single element from your array before performing this operation. (Deprecated NumPy 1.25.)\n",
            "  p_x_1[i, j] = (ones_cnt[i, j] + 0.7) / (total_each_class[i] + 0.7)\n",
            "/var/folders/0g/rpfzxg1x1d7dndvhhsbxmtzw0000gn/T/ipykernel_1000/1578188293.py:13: DeprecationWarning: Conversion of an array with ndim > 0 to a scalar is deprecated, and will error in future. Ensure you extract a single element from your array before performing this operation. (Deprecated NumPy 1.25.)\n",
            "  p_x_1[i, j] = ones_cnt[i, j] / total_each_class[i]\n"
          ]
        }
      ],
      "source": [
        "p_x_1 = np.zeros([10, 784])\n",
        "logp_x_1 = np.zeros([10, 784])\n",
        "\n",
        "# Loop over the 10 classes\n",
        "for i in range(10):\n",
        "  # Loop over all the pixels\n",
        "  for j in range(784):\n",
        "    # Check if there a no pixels equal to 1\n",
        "    if ones_cnt[i, j] == 0:\n",
        "      # Laplce smoothing\n",
        "      p_x_1[i, j] = (ones_cnt[i, j] + 0.7) / (total_each_class[i] + 0.7)\n",
        "    else:\n",
        "      p_x_1[i, j] = ones_cnt[i, j] / total_each_class[i]\n",
        "    # Calculate the log porbabilities to avoid multiplying by a small number\n",
        "    logp_x_1[i, j] = np.log10(p_x_1[i, j])"
      ]
    },
    {
      "cell_type": "markdown",
      "metadata": {
        "id": "zfptvSDNe_SO"
      },
      "source": [
        "## Naive Bayes classification function"
      ]
    },
    {
      "cell_type": "code",
      "execution_count": 6,
      "metadata": {
        "id": "iXhiwf0WfCY4"
      },
      "outputs": [],
      "source": [
        "def naive_bayes(_x_test):\n",
        "  p_x_test = np.zeros([10, 1])\n",
        "  # Loop over the 10 classes\n",
        "  for i in range(10):\n",
        "    # Loop over all the pixels\n",
        "    for j in range(784):\n",
        "      # Check if the current pixel is equal to 0 or 1\n",
        "      if _x_test[j] == 0:\n",
        "        p_x_test[i] += logp_x_0[i, j]\n",
        "      elif _x_test[j] == 1:\n",
        "        p_x_test[i] += logp_x_1[i, j]\n",
        "  y = np.argmax(p_x_test)\n",
        "  return y"
      ]
    },
    {
      "cell_type": "markdown",
      "metadata": {
        "id": "ji46BYE2gx3A"
      },
      "source": [
        "## Predict the test classes"
      ]
    },
    {
      "cell_type": "code",
      "execution_count": 7,
      "metadata": {
        "colab": {
          "base_uri": "https://localhost:8080/"
        },
        "id": "FLQ2facTg0kL",
        "outputId": "4426672b-af1d-4cb1-fc31-4ac8f774d222"
      },
      "outputs": [
        {
          "name": "stdout",
          "output_type": "stream",
          "text": [
            "The empirical risk when using the missclassification loss function = 0.1565\n",
            "The empirical risk when using the squared error loss function = 2.8319\n"
          ]
        }
      ],
      "source": [
        "x_test_flat = np.reshape(x_test_int, [10000, 784])\n",
        "y_hat = []\n",
        "\n",
        "for i in range(10000):\n",
        "  y_hat.append(naive_bayes(x_test_flat[i]))\n",
        "\n",
        "print('The empirical risk when using the missclassification loss function =', np.count_nonzero(y_hat - y_test) / 10000)\n",
        "print('The empirical risk when using the squared error loss function =', sum((y_hat - y_test)**2) / 10000)"
      ]
    },
    {
      "cell_type": "markdown",
      "metadata": {},
      "source": [
        "# PreProcessing"
      ]
    },
    {
      "cell_type": "code",
      "execution_count": 8,
      "metadata": {},
      "outputs": [],
      "source": [
        "from PIL import Image, ImageOps\n",
        "import numpy as np"
      ]
    },
    {
      "cell_type": "code",
      "execution_count": 12,
      "metadata": {},
      "outputs": [],
      "source": [
        "def prepare_image(image_path):\n",
        "    # Load the image again after the reset\n",
        "    # image_path = '/mnt/data/random.PNG'\n",
        "    image = Image.open(image_path)\n",
        "\n",
        "    # Convert it to grayscale\n",
        "    image_gray = ImageOps.grayscale(image)\n",
        "\n",
        "    # Resize it to 28x28 pixels\n",
        "    image_resized = image_gray.resize((28, 28))\n",
        "\n",
        "    # Binarize the image: pixels above the threshold are white (1), the rest are black (0)\n",
        "    # We use a threshold of 128 for 0-255 scale, which can be adjusted if needed\n",
        "    threshold = 128\n",
        "    image_binarized = image_resized.point(lambda x: 0 if x < threshold else 1, '1')\n",
        "\n",
        "    # Convert the image to a numpy array\n",
        "    image_array = np.array(image_binarized, dtype=np.uint8) / 255.0\n",
        "\n",
        "    # Show the preprocessed image\n",
        "    image_resized.show()\n",
        "\n",
        "    # Return the binarized image array for further processing\n",
        "    return image_array"
      ]
    },
    {
      "cell_type": "code",
      "execution_count": 14,
      "metadata": {},
      "outputs": [
        {
          "name": "stdout",
          "output_type": "stream",
          "text": [
            "[[0.00392157 0.00392157 0.00392157 0.00392157 0.00392157 0.00392157\n",
            "  0.00392157 0.00392157 0.00392157 0.00392157 0.00392157 0.00392157\n",
            "  0.00392157 0.00392157 0.00392157 0.00392157 0.00392157 0.00392157\n",
            "  0.00392157 0.00392157 0.00392157 0.00392157 0.00392157 0.00392157\n",
            "  0.00392157 0.00392157 0.00392157 0.00392157]\n",
            " [0.00392157 0.00392157 0.00392157 0.00392157 0.00392157 0.00392157\n",
            "  0.00392157 0.00392157 0.00392157 0.00392157 0.00392157 0.00392157\n",
            "  0.00392157 0.00392157 0.00392157 0.00392157 0.00392157 0.00392157\n",
            "  0.00392157 0.00392157 0.00392157 0.00392157 0.00392157 0.00392157\n",
            "  0.00392157 0.00392157 0.00392157 0.00392157]\n",
            " [0.00392157 0.00392157 0.00392157 0.00392157 0.00392157 0.00392157\n",
            "  0.00392157 0.00392157 0.00392157 0.00392157 0.00392157 0.00392157\n",
            "  0.00392157 0.00392157 0.00392157 0.00392157 0.00392157 0.00392157\n",
            "  0.00392157 0.00392157 0.00392157 0.00392157 0.00392157 0.00392157\n",
            "  0.00392157 0.00392157 0.00392157 0.00392157]\n",
            " [0.00392157 0.00392157 0.00392157 0.00392157 0.00392157 0.00392157\n",
            "  0.00392157 0.00392157 0.00392157 0.00392157 0.00392157 0.00392157\n",
            "  0.00392157 0.00392157 0.00392157 0.00392157 0.00392157 0.00392157\n",
            "  0.00392157 0.00392157 0.00392157 0.00392157 0.00392157 0.00392157\n",
            "  0.00392157 0.00392157 0.00392157 0.00392157]\n",
            " [0.00392157 0.00392157 0.00392157 0.00392157 0.00392157 0.00392157\n",
            "  0.00392157 0.00392157 0.00392157 0.00392157 0.00392157 0.00392157\n",
            "  0.00392157 0.00392157 0.00392157 0.00392157 0.00392157 0.00392157\n",
            "  0.00392157 0.00392157 0.00392157 0.00392157 0.00392157 0.00392157\n",
            "  0.00392157 0.00392157 0.00392157 0.00392157]\n",
            " [0.00392157 0.00392157 0.00392157 0.00392157 0.00392157 0.00392157\n",
            "  0.00392157 0.00392157 0.00392157 0.00392157 0.00392157 0.00392157\n",
            "  0.00392157 0.00392157 0.00392157 0.00392157 0.         0.00392157\n",
            "  0.00392157 0.00392157 0.00392157 0.00392157 0.00392157 0.00392157\n",
            "  0.00392157 0.00392157 0.00392157 0.00392157]\n",
            " [0.00392157 0.00392157 0.00392157 0.00392157 0.00392157 0.00392157\n",
            "  0.00392157 0.00392157 0.00392157 0.00392157 0.00392157 0.00392157\n",
            "  0.00392157 0.00392157 0.00392157 0.00392157 0.         0.00392157\n",
            "  0.00392157 0.00392157 0.00392157 0.00392157 0.00392157 0.00392157\n",
            "  0.00392157 0.00392157 0.00392157 0.00392157]\n",
            " [0.00392157 0.00392157 0.00392157 0.00392157 0.00392157 0.00392157\n",
            "  0.00392157 0.00392157 0.00392157 0.00392157 0.00392157 0.00392157\n",
            "  0.00392157 0.00392157 0.00392157 0.00392157 0.         0.00392157\n",
            "  0.00392157 0.00392157 0.00392157 0.00392157 0.00392157 0.00392157\n",
            "  0.00392157 0.00392157 0.00392157 0.00392157]\n",
            " [0.00392157 0.00392157 0.00392157 0.00392157 0.00392157 0.00392157\n",
            "  0.         0.         0.00392157 0.00392157 0.00392157 0.00392157\n",
            "  0.00392157 0.00392157 0.00392157 0.00392157 0.         0.00392157\n",
            "  0.00392157 0.00392157 0.00392157 0.00392157 0.00392157 0.00392157\n",
            "  0.00392157 0.00392157 0.00392157 0.00392157]\n",
            " [0.00392157 0.00392157 0.00392157 0.00392157 0.00392157 0.00392157\n",
            "  0.         0.         0.00392157 0.00392157 0.00392157 0.00392157\n",
            "  0.00392157 0.00392157 0.00392157 0.00392157 0.         0.00392157\n",
            "  0.00392157 0.00392157 0.00392157 0.00392157 0.00392157 0.00392157\n",
            "  0.00392157 0.00392157 0.00392157 0.00392157]\n",
            " [0.00392157 0.00392157 0.00392157 0.00392157 0.00392157 0.00392157\n",
            "  0.         0.         0.00392157 0.00392157 0.00392157 0.00392157\n",
            "  0.00392157 0.00392157 0.00392157 0.00392157 0.         0.\n",
            "  0.00392157 0.00392157 0.00392157 0.00392157 0.00392157 0.00392157\n",
            "  0.00392157 0.00392157 0.00392157 0.00392157]\n",
            " [0.00392157 0.00392157 0.00392157 0.00392157 0.00392157 0.00392157\n",
            "  0.         0.         0.00392157 0.00392157 0.00392157 0.00392157\n",
            "  0.00392157 0.00392157 0.00392157 0.         0.         0.\n",
            "  0.00392157 0.00392157 0.00392157 0.00392157 0.00392157 0.00392157\n",
            "  0.00392157 0.00392157 0.00392157 0.00392157]\n",
            " [0.00392157 0.00392157 0.00392157 0.00392157 0.00392157 0.00392157\n",
            "  0.         0.         0.00392157 0.00392157 0.00392157 0.00392157\n",
            "  0.         0.         0.         0.         0.         0.\n",
            "  0.00392157 0.00392157 0.00392157 0.00392157 0.00392157 0.00392157\n",
            "  0.00392157 0.00392157 0.00392157 0.00392157]\n",
            " [0.00392157 0.00392157 0.00392157 0.00392157 0.00392157 0.00392157\n",
            "  0.         0.         0.00392157 0.00392157 0.         0.\n",
            "  0.         0.         0.00392157 0.00392157 0.         0.\n",
            "  0.00392157 0.00392157 0.00392157 0.00392157 0.00392157 0.00392157\n",
            "  0.00392157 0.00392157 0.00392157 0.00392157]\n",
            " [0.00392157 0.00392157 0.00392157 0.00392157 0.00392157 0.00392157\n",
            "  0.         0.         0.         0.         0.         0.00392157\n",
            "  0.00392157 0.00392157 0.00392157 0.00392157 0.         0.\n",
            "  0.00392157 0.00392157 0.00392157 0.00392157 0.00392157 0.00392157\n",
            "  0.00392157 0.00392157 0.00392157 0.00392157]\n",
            " [0.00392157 0.00392157 0.00392157 0.00392157 0.00392157 0.00392157\n",
            "  0.00392157 0.         0.         0.00392157 0.00392157 0.00392157\n",
            "  0.00392157 0.00392157 0.00392157 0.00392157 0.         0.\n",
            "  0.00392157 0.00392157 0.00392157 0.00392157 0.00392157 0.00392157\n",
            "  0.00392157 0.00392157 0.00392157 0.00392157]\n",
            " [0.00392157 0.00392157 0.00392157 0.00392157 0.00392157 0.00392157\n",
            "  0.00392157 0.00392157 0.00392157 0.00392157 0.00392157 0.00392157\n",
            "  0.00392157 0.00392157 0.00392157 0.00392157 0.00392157 0.\n",
            "  0.00392157 0.00392157 0.00392157 0.00392157 0.00392157 0.00392157\n",
            "  0.00392157 0.00392157 0.00392157 0.00392157]\n",
            " [0.00392157 0.00392157 0.00392157 0.00392157 0.00392157 0.00392157\n",
            "  0.00392157 0.00392157 0.00392157 0.00392157 0.00392157 0.00392157\n",
            "  0.00392157 0.00392157 0.00392157 0.00392157 0.00392157 0.\n",
            "  0.00392157 0.00392157 0.00392157 0.00392157 0.00392157 0.00392157\n",
            "  0.00392157 0.00392157 0.00392157 0.00392157]\n",
            " [0.00392157 0.00392157 0.00392157 0.00392157 0.00392157 0.00392157\n",
            "  0.00392157 0.00392157 0.00392157 0.00392157 0.00392157 0.00392157\n",
            "  0.00392157 0.00392157 0.00392157 0.00392157 0.00392157 0.\n",
            "  0.00392157 0.00392157 0.00392157 0.00392157 0.00392157 0.00392157\n",
            "  0.00392157 0.00392157 0.00392157 0.00392157]\n",
            " [0.00392157 0.00392157 0.00392157 0.00392157 0.00392157 0.00392157\n",
            "  0.00392157 0.00392157 0.00392157 0.00392157 0.00392157 0.00392157\n",
            "  0.00392157 0.00392157 0.00392157 0.00392157 0.00392157 0.\n",
            "  0.         0.00392157 0.00392157 0.00392157 0.00392157 0.00392157\n",
            "  0.00392157 0.00392157 0.00392157 0.00392157]\n",
            " [0.00392157 0.00392157 0.00392157 0.00392157 0.00392157 0.00392157\n",
            "  0.00392157 0.00392157 0.00392157 0.00392157 0.00392157 0.00392157\n",
            "  0.00392157 0.00392157 0.00392157 0.00392157 0.00392157 0.\n",
            "  0.         0.00392157 0.00392157 0.00392157 0.00392157 0.00392157\n",
            "  0.00392157 0.00392157 0.00392157 0.00392157]\n",
            " [0.00392157 0.00392157 0.00392157 0.00392157 0.00392157 0.00392157\n",
            "  0.00392157 0.00392157 0.00392157 0.00392157 0.00392157 0.00392157\n",
            "  0.00392157 0.00392157 0.00392157 0.00392157 0.00392157 0.\n",
            "  0.         0.00392157 0.00392157 0.00392157 0.00392157 0.00392157\n",
            "  0.00392157 0.00392157 0.00392157 0.00392157]\n",
            " [0.00392157 0.00392157 0.00392157 0.00392157 0.00392157 0.00392157\n",
            "  0.00392157 0.00392157 0.00392157 0.00392157 0.00392157 0.00392157\n",
            "  0.00392157 0.00392157 0.00392157 0.00392157 0.00392157 0.\n",
            "  0.         0.00392157 0.00392157 0.00392157 0.00392157 0.00392157\n",
            "  0.00392157 0.00392157 0.00392157 0.00392157]\n",
            " [0.00392157 0.00392157 0.00392157 0.00392157 0.00392157 0.00392157\n",
            "  0.00392157 0.00392157 0.00392157 0.00392157 0.00392157 0.00392157\n",
            "  0.00392157 0.00392157 0.00392157 0.00392157 0.00392157 0.\n",
            "  0.         0.00392157 0.00392157 0.00392157 0.00392157 0.00392157\n",
            "  0.00392157 0.00392157 0.00392157 0.00392157]\n",
            " [0.00392157 0.00392157 0.00392157 0.00392157 0.00392157 0.00392157\n",
            "  0.00392157 0.00392157 0.00392157 0.00392157 0.00392157 0.00392157\n",
            "  0.00392157 0.00392157 0.00392157 0.00392157 0.00392157 0.00392157\n",
            "  0.         0.00392157 0.00392157 0.00392157 0.00392157 0.00392157\n",
            "  0.00392157 0.00392157 0.00392157 0.00392157]\n",
            " [0.00392157 0.00392157 0.00392157 0.00392157 0.00392157 0.00392157\n",
            "  0.00392157 0.00392157 0.00392157 0.00392157 0.00392157 0.00392157\n",
            "  0.00392157 0.00392157 0.00392157 0.00392157 0.00392157 0.00392157\n",
            "  0.00392157 0.00392157 0.00392157 0.00392157 0.00392157 0.00392157\n",
            "  0.00392157 0.00392157 0.00392157 0.00392157]\n",
            " [0.00392157 0.00392157 0.00392157 0.00392157 0.00392157 0.00392157\n",
            "  0.00392157 0.00392157 0.00392157 0.00392157 0.00392157 0.00392157\n",
            "  0.00392157 0.00392157 0.00392157 0.00392157 0.00392157 0.00392157\n",
            "  0.00392157 0.00392157 0.00392157 0.00392157 0.00392157 0.00392157\n",
            "  0.00392157 0.00392157 0.00392157 0.00392157]\n",
            " [0.00392157 0.00392157 0.00392157 0.00392157 0.00392157 0.00392157\n",
            "  0.00392157 0.00392157 0.00392157 0.00392157 0.00392157 0.00392157\n",
            "  0.00392157 0.00392157 0.00392157 0.00392157 0.00392157 0.00392157\n",
            "  0.00392157 0.00392157 0.00392157 0.00392157 0.00392157 0.00392157\n",
            "  0.00392157 0.00392157 0.00392157 0.00392157]]\n"
          ]
        }
      ],
      "source": [
        "testing = prepare_image('./random.PNG')\n",
        "print(testing)"
      ]
    },
    {
      "cell_type": "code",
      "execution_count": 11,
      "metadata": {},
      "outputs": [
        {
          "name": "stdout",
          "output_type": "stream",
          "text": [
            "1\n"
          ]
        }
      ],
      "source": [
        "flattened_image = testing.flatten()\n",
        "predicted_digit = naive_bayes(flattened_image)\n",
        "print(predicted_digit)"
      ]
    },
    {
      "cell_type": "code",
      "execution_count": null,
      "metadata": {},
      "outputs": [],
      "source": []
    }
  ],
  "metadata": {
    "accelerator": "GPU",
    "colab": {
      "provenance": []
    },
    "gpuClass": "standard",
    "kernelspec": {
      "display_name": "Python 3",
      "name": "python3"
    },
    "language_info": {
      "codemirror_mode": {
        "name": "ipython",
        "version": 3
      },
      "file_extension": ".py",
      "mimetype": "text/x-python",
      "name": "python",
      "nbconvert_exporter": "python",
      "pygments_lexer": "ipython3",
      "version": "3.11.7"
    }
  },
  "nbformat": 4,
  "nbformat_minor": 0
}
